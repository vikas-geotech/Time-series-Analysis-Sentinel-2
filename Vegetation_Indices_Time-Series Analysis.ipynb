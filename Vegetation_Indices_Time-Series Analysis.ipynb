{
 "cells": [
  {
   "cell_type": "markdown",
   "id": "6a4530bf-3097-492b-9ff5-6e02ffe3f73d",
   "metadata": {},
   "source": [
    "# Import all essential libraries"
   ]
  },
  {
   "cell_type": "code",
   "execution_count": 1,
   "id": "45b70c41-e5d4-483a-a326-49c4e5c0f0d6",
   "metadata": {},
   "outputs": [],
   "source": [
    "import ee\n",
    "import geemap\n",
    "import geopandas as gpd\n",
    "import pandas as pd\n",
    "import matplotlib.pyplot as plt"
   ]
  },
  {
   "cell_type": "markdown",
   "id": "a252d134-aa73-4889-937f-d8e285923a98",
   "metadata": {},
   "source": [
    "# Initialize and Authenticate Earth Engine"
   ]
  },
  {
   "cell_type": "code",
   "execution_count": 2,
   "id": "64a86c99-c82e-4fd7-8d24-2700858d544a",
   "metadata": {},
   "outputs": [
    {
     "data": {
      "text/html": [
       "\n",
       "            <style>\n",
       "                .geemap-dark {\n",
       "                    --jp-widgets-color: white;\n",
       "                    --jp-widgets-label-color: white;\n",
       "                    --jp-ui-font-color1: white;\n",
       "                    --jp-layout-color2: #454545;\n",
       "                    background-color: #383838;\n",
       "                }\n",
       "\n",
       "                .geemap-dark .jupyter-button {\n",
       "                    --jp-layout-color3: #383838;\n",
       "                }\n",
       "\n",
       "                .geemap-colab {\n",
       "                    background-color: var(--colab-primary-surface-color, white);\n",
       "                }\n",
       "\n",
       "                .geemap-colab .jupyter-button {\n",
       "                    --jp-layout-color3: var(--colab-primary-surface-color, white);\n",
       "                }\n",
       "            </style>\n",
       "            "
      ],
      "text/plain": [
       "<IPython.core.display.HTML object>"
      ]
     },
     "metadata": {},
     "output_type": "display_data"
    },
    {
     "data": {
      "text/plain": [
       "True"
      ]
     },
     "execution_count": 2,
     "metadata": {},
     "output_type": "execute_result"
    }
   ],
   "source": [
    "ee.Initialize()\n",
    "ee.Authenticate()"
   ]
  },
  {
   "cell_type": "markdown",
   "id": "777fed40-d2ad-41bc-b773-8ed761a59ea1",
   "metadata": {},
   "source": [
    "# Add Webmap"
   ]
  },
  {
   "cell_type": "code",
   "execution_count": 3,
   "id": "5382cdd7-6ee7-4232-b201-3b389ef11902",
   "metadata": {},
   "outputs": [
    {
     "data": {
      "text/html": [
       "\n",
       "            <style>\n",
       "                .geemap-dark {\n",
       "                    --jp-widgets-color: white;\n",
       "                    --jp-widgets-label-color: white;\n",
       "                    --jp-ui-font-color1: white;\n",
       "                    --jp-layout-color2: #454545;\n",
       "                    background-color: #383838;\n",
       "                }\n",
       "\n",
       "                .geemap-dark .jupyter-button {\n",
       "                    --jp-layout-color3: #383838;\n",
       "                }\n",
       "\n",
       "                .geemap-colab {\n",
       "                    background-color: var(--colab-primary-surface-color, white);\n",
       "                }\n",
       "\n",
       "                .geemap-colab .jupyter-button {\n",
       "                    --jp-layout-color3: var(--colab-primary-surface-color, white);\n",
       "                }\n",
       "            </style>\n",
       "            "
      ],
      "text/plain": [
       "<IPython.core.display.HTML object>"
      ]
     },
     "metadata": {},
     "output_type": "display_data"
    },
    {
     "data": {
      "application/vnd.jupyter.widget-view+json": {
       "model_id": "a30ed06edbb342c69af552fd8973c579",
       "version_major": 2,
       "version_minor": 0
      },
      "text/plain": [
       "Map(center=[0, 0], controls=(WidgetControl(options=['position', 'transparent_bg'], widget=SearchDataGUI(childr…"
      ]
     },
     "execution_count": 3,
     "metadata": {},
     "output_type": "execute_result"
    }
   ],
   "source": [
    "Map = geemap.Map()\n",
    "Map"
   ]
  },
  {
   "cell_type": "markdown",
   "id": "ed437bc7-29db-4d7c-aba6-e078061b842e",
   "metadata": {},
   "source": [
    "# Import shapefile which is uploaded on Google Earth Engine Assets"
   ]
  },
  {
   "cell_type": "code",
   "execution_count": 4,
   "id": "4bc23d31-e343-4ba7-a4d9-416d5e910f80",
   "metadata": {},
   "outputs": [
    {
     "data": {
      "text/html": [
       "\n",
       "            <style>\n",
       "                .geemap-dark {\n",
       "                    --jp-widgets-color: white;\n",
       "                    --jp-widgets-label-color: white;\n",
       "                    --jp-ui-font-color1: white;\n",
       "                    --jp-layout-color2: #454545;\n",
       "                    background-color: #383838;\n",
       "                }\n",
       "\n",
       "                .geemap-dark .jupyter-button {\n",
       "                    --jp-layout-color3: #383838;\n",
       "                }\n",
       "\n",
       "                .geemap-colab {\n",
       "                    background-color: var(--colab-primary-surface-color, white);\n",
       "                }\n",
       "\n",
       "                .geemap-colab .jupyter-button {\n",
       "                    --jp-layout-color3: var(--colab-primary-surface-color, white);\n",
       "                }\n",
       "            </style>\n",
       "            "
      ],
      "text/plain": [
       "<IPython.core.display.HTML object>"
      ]
     },
     "metadata": {},
     "output_type": "display_data"
    }
   ],
   "source": [
    "shp = ee.FeatureCollection(\"projects/ee-gistg001/assets/Sample\")\n",
    "Map.addLayer(shp,{}, 'Boundary', True)\n",
    "Map.setCenter(shp)"
   ]
  },
  {
   "cell_type": "markdown",
   "id": "f8269058-c6af-4fc4-a1ea-e4bf69cebc8f",
   "metadata": {},
   "source": [
    "# Define Start date & End date to select images for analysis in interested time period."
   ]
  },
  {
   "cell_type": "code",
   "execution_count": 5,
   "id": "f1b13e52-f85f-4164-903f-309505edbdb9",
   "metadata": {},
   "outputs": [
    {
     "data": {
      "text/html": [
       "\n",
       "            <style>\n",
       "                .geemap-dark {\n",
       "                    --jp-widgets-color: white;\n",
       "                    --jp-widgets-label-color: white;\n",
       "                    --jp-ui-font-color1: white;\n",
       "                    --jp-layout-color2: #454545;\n",
       "                    background-color: #383838;\n",
       "                }\n",
       "\n",
       "                .geemap-dark .jupyter-button {\n",
       "                    --jp-layout-color3: #383838;\n",
       "                }\n",
       "\n",
       "                .geemap-colab {\n",
       "                    background-color: var(--colab-primary-surface-color, white);\n",
       "                }\n",
       "\n",
       "                .geemap-colab .jupyter-button {\n",
       "                    --jp-layout-color3: var(--colab-primary-surface-color, white);\n",
       "                }\n",
       "            </style>\n",
       "            "
      ],
      "text/plain": [
       "<IPython.core.display.HTML object>"
      ]
     },
     "metadata": {},
     "output_type": "display_data"
    }
   ],
   "source": [
    "START_DATE =('2023-01-01')\n",
    "END_DATE = ('2023-12-31')"
   ]
  },
  {
   "cell_type": "markdown",
   "id": "54f5f0e6-25f1-40c2-804b-4a5ea3bc990c",
   "metadata": {},
   "source": [
    "# Select bands to calculate NDVI"
   ]
  },
  {
   "cell_type": "code",
   "execution_count": 6,
   "id": "32b5bbc4-fda0-4e26-8f79-073d81c605ad",
   "metadata": {},
   "outputs": [
    {
     "data": {
      "text/html": [
       "\n",
       "            <style>\n",
       "                .geemap-dark {\n",
       "                    --jp-widgets-color: white;\n",
       "                    --jp-widgets-label-color: white;\n",
       "                    --jp-ui-font-color1: white;\n",
       "                    --jp-layout-color2: #454545;\n",
       "                    background-color: #383838;\n",
       "                }\n",
       "\n",
       "                .geemap-dark .jupyter-button {\n",
       "                    --jp-layout-color3: #383838;\n",
       "                }\n",
       "\n",
       "                .geemap-colab {\n",
       "                    background-color: var(--colab-primary-surface-color, white);\n",
       "                }\n",
       "\n",
       "                .geemap-colab .jupyter-button {\n",
       "                    --jp-layout-color3: var(--colab-primary-surface-color, white);\n",
       "                }\n",
       "            </style>\n",
       "            "
      ],
      "text/plain": [
       "<IPython.core.display.HTML object>"
      ]
     },
     "metadata": {},
     "output_type": "display_data"
    }
   ],
   "source": [
    "def addnd(input):\n",
    "    nd = input.normalizedDifference(['B8', 'B4']).rename('ndvi')\n",
    "    return input.addBands(nd)"
   ]
  },
  {
   "cell_type": "markdown",
   "id": "91f5c23e-33de-459a-9d73-96d3a896a6c5",
   "metadata": {},
   "source": [
    "# Select bands to calculate EVI"
   ]
  },
  {
   "cell_type": "code",
   "execution_count": 7,
   "id": "d26efd8f-6f70-4ccb-956b-5c89d8cb7047",
   "metadata": {},
   "outputs": [
    {
     "data": {
      "text/html": [
       "\n",
       "            <style>\n",
       "                .geemap-dark {\n",
       "                    --jp-widgets-color: white;\n",
       "                    --jp-widgets-label-color: white;\n",
       "                    --jp-ui-font-color1: white;\n",
       "                    --jp-layout-color2: #454545;\n",
       "                    background-color: #383838;\n",
       "                }\n",
       "\n",
       "                .geemap-dark .jupyter-button {\n",
       "                    --jp-layout-color3: #383838;\n",
       "                }\n",
       "\n",
       "                .geemap-colab {\n",
       "                    background-color: var(--colab-primary-surface-color, white);\n",
       "                }\n",
       "\n",
       "                .geemap-colab .jupyter-button {\n",
       "                    --jp-layout-color3: var(--colab-primary-surface-color, white);\n",
       "                }\n",
       "            </style>\n",
       "            "
      ],
      "text/plain": [
       "<IPython.core.display.HTML object>"
      ]
     },
     "metadata": {},
     "output_type": "display_data"
    }
   ],
   "source": [
    "def addev(input):\n",
    "    NIR = input.select('B8')  # Near-Infrared band\n",
    "    RED = input.select('B4')  # Red band\n",
    "    BLUE = input.select('B2') # Blue band\n",
    "    \n",
    "    # Define coefficients\n",
    "    G = 2.5\n",
    "    C1 = 6\n",
    "    C2 = 7.5\n",
    "    L = 1.0\n",
    "    \n",
    "    # Calculate EVI\n",
    "    evi = input.expression(\n",
    "        'G * ((NIR - RED) / (NIR + C1 * RED - C2 * BLUE) + L)', {\n",
    "            'NIR': NIR,\n",
    "            'RED': RED,\n",
    "            'BLUE': BLUE,\n",
    "            'G': G,\n",
    "            'C1': C1,\n",
    "            'C2': C2,\n",
    "            'L': L\n",
    "        }).rename('evi')\n",
    "    \n",
    "    return input.addBands(evi)\n"
   ]
  },
  {
   "cell_type": "markdown",
   "id": "a4dc16df-00dd-4419-95fa-452451d13998",
   "metadata": {},
   "source": [
    "# Select Image Collection and define the cloud cover percentage"
   ]
  },
  {
   "cell_type": "code",
   "execution_count": 8,
   "id": "3275a410-4a39-4eeb-921a-7527caba83a5",
   "metadata": {},
   "outputs": [
    {
     "data": {
      "text/html": [
       "\n",
       "            <style>\n",
       "                .geemap-dark {\n",
       "                    --jp-widgets-color: white;\n",
       "                    --jp-widgets-label-color: white;\n",
       "                    --jp-ui-font-color1: white;\n",
       "                    --jp-layout-color2: #454545;\n",
       "                    background-color: #383838;\n",
       "                }\n",
       "\n",
       "                .geemap-dark .jupyter-button {\n",
       "                    --jp-layout-color3: #383838;\n",
       "                }\n",
       "\n",
       "                .geemap-colab {\n",
       "                    background-color: var(--colab-primary-surface-color, white);\n",
       "                }\n",
       "\n",
       "                .geemap-colab .jupyter-button {\n",
       "                    --jp-layout-color3: var(--colab-primary-surface-color, white);\n",
       "                }\n",
       "            </style>\n",
       "            "
      ],
      "text/plain": [
       "<IPython.core.display.HTML object>"
      ]
     },
     "metadata": {},
     "output_type": "display_data"
    },
    {
     "name": "stdout",
     "output_type": "stream",
     "text": [
      "36\n"
     ]
    }
   ],
   "source": [
    "dataset = ee.ImageCollection(\"COPERNICUS/S2\") \\\n",
    "    .filterBounds(shp) \\\n",
    "    .filterDate(START_DATE, END_DATE) \\\n",
    "    .filterMetadata('CLOUDY_PIXEL_PERCENTAGE','less_than', 10) \\\n",
    "    .map(addnd)\\\n",
    "    .map(addev)\\\n",
    "\n",
    "num_images = dataset.size().getInfo()\n",
    "print(num_images)"
   ]
  },
  {
   "cell_type": "markdown",
   "id": "e047d604-1bc3-49db-abef-647e3131eaf9",
   "metadata": {},
   "source": [
    "# Select NDVI to add in Webmap"
   ]
  },
  {
   "cell_type": "code",
   "execution_count": 9,
   "id": "8129ec92-3602-4fb8-9006-f39dd19d56a9",
   "metadata": {},
   "outputs": [
    {
     "data": {
      "text/html": [
       "\n",
       "            <style>\n",
       "                .geemap-dark {\n",
       "                    --jp-widgets-color: white;\n",
       "                    --jp-widgets-label-color: white;\n",
       "                    --jp-ui-font-color1: white;\n",
       "                    --jp-layout-color2: #454545;\n",
       "                    background-color: #383838;\n",
       "                }\n",
       "\n",
       "                .geemap-dark .jupyter-button {\n",
       "                    --jp-layout-color3: #383838;\n",
       "                }\n",
       "\n",
       "                .geemap-colab {\n",
       "                    background-color: var(--colab-primary-surface-color, white);\n",
       "                }\n",
       "\n",
       "                .geemap-colab .jupyter-button {\n",
       "                    --jp-layout-color3: var(--colab-primary-surface-color, white);\n",
       "                }\n",
       "            </style>\n",
       "            "
      ],
      "text/plain": [
       "<IPython.core.display.HTML object>"
      ]
     },
     "metadata": {},
     "output_type": "display_data"
    }
   ],
   "source": [
    "ndvi = dataset.select('ndvi').filterBounds(shp)\n",
    "Map.addLayer(ndvi, {'min': -1, 'max': 1, 'palette': ['red','yellow','green']}, 'NDVI S2', True)"
   ]
  },
  {
   "cell_type": "markdown",
   "id": "97206283-5bac-48ce-ab05-066dfc337044",
   "metadata": {},
   "source": [
    "# Select EVI to add in Webmap"
   ]
  },
  {
   "cell_type": "code",
   "execution_count": 10,
   "id": "7a14e9e4-c6a7-47cf-ad37-1a1002ff73a8",
   "metadata": {},
   "outputs": [
    {
     "data": {
      "text/html": [
       "\n",
       "            <style>\n",
       "                .geemap-dark {\n",
       "                    --jp-widgets-color: white;\n",
       "                    --jp-widgets-label-color: white;\n",
       "                    --jp-ui-font-color1: white;\n",
       "                    --jp-layout-color2: #454545;\n",
       "                    background-color: #383838;\n",
       "                }\n",
       "\n",
       "                .geemap-dark .jupyter-button {\n",
       "                    --jp-layout-color3: #383838;\n",
       "                }\n",
       "\n",
       "                .geemap-colab {\n",
       "                    background-color: var(--colab-primary-surface-color, white);\n",
       "                }\n",
       "\n",
       "                .geemap-colab .jupyter-button {\n",
       "                    --jp-layout-color3: var(--colab-primary-surface-color, white);\n",
       "                }\n",
       "            </style>\n",
       "            "
      ],
      "text/plain": [
       "<IPython.core.display.HTML object>"
      ]
     },
     "metadata": {},
     "output_type": "display_data"
    }
   ],
   "source": [
    "evi = dataset.select('evi').filterBounds(shp)\n",
    "Map.addLayer(evi, {'min': -1, 'max': 1, 'palette': ['white','blue','cyan','yellow','green']}, 'EVI S2', True)"
   ]
  },
  {
   "cell_type": "markdown",
   "id": "ec456968-65b5-49c2-abb4-42814ce3320f",
   "metadata": {},
   "source": [
    "# Add Time series NDVI"
   ]
  },
  {
   "cell_type": "code",
   "execution_count": 11,
   "id": "da99508f-c028-4635-8c28-e93822509803",
   "metadata": {},
   "outputs": [
    {
     "data": {
      "text/html": [
       "\n",
       "            <style>\n",
       "                .geemap-dark {\n",
       "                    --jp-widgets-color: white;\n",
       "                    --jp-widgets-label-color: white;\n",
       "                    --jp-ui-font-color1: white;\n",
       "                    --jp-layout-color2: #454545;\n",
       "                    background-color: #383838;\n",
       "                }\n",
       "\n",
       "                .geemap-dark .jupyter-button {\n",
       "                    --jp-layout-color3: #383838;\n",
       "                }\n",
       "\n",
       "                .geemap-colab {\n",
       "                    background-color: var(--colab-primary-surface-color, white);\n",
       "                }\n",
       "\n",
       "                .geemap-colab .jupyter-button {\n",
       "                    --jp-layout-color3: var(--colab-primary-surface-color, white);\n",
       "                }\n",
       "            </style>\n",
       "            "
      ],
      "text/plain": [
       "<IPython.core.display.HTML object>"
      ]
     },
     "metadata": {},
     "output_type": "display_data"
    }
   ],
   "source": [
    "ts = ndvi.toBands()\n",
    "Map.addLayer(ts, {}, \"NDVI Time series\", False)"
   ]
  },
  {
   "cell_type": "markdown",
   "id": "36cdd966-3475-4780-bc1e-6ec7871915a7",
   "metadata": {},
   "source": [
    "# Define the output directory to save the data"
   ]
  },
  {
   "cell_type": "code",
   "execution_count": 12,
   "id": "e5caaf8f-bc56-40ba-b37f-271753d94caa",
   "metadata": {},
   "outputs": [
    {
     "data": {
      "text/html": [
       "\n",
       "            <style>\n",
       "                .geemap-dark {\n",
       "                    --jp-widgets-color: white;\n",
       "                    --jp-widgets-label-color: white;\n",
       "                    --jp-ui-font-color1: white;\n",
       "                    --jp-layout-color2: #454545;\n",
       "                    background-color: #383838;\n",
       "                }\n",
       "\n",
       "                .geemap-dark .jupyter-button {\n",
       "                    --jp-layout-color3: #383838;\n",
       "                }\n",
       "\n",
       "                .geemap-colab {\n",
       "                    background-color: var(--colab-primary-surface-color, white);\n",
       "                }\n",
       "\n",
       "                .geemap-colab .jupyter-button {\n",
       "                    --jp-layout-color3: var(--colab-primary-surface-color, white);\n",
       "                }\n",
       "            </style>\n",
       "            "
      ],
      "text/plain": [
       "<IPython.core.display.HTML object>"
      ]
     },
     "metadata": {},
     "output_type": "display_data"
    }
   ],
   "source": [
    "import os\n",
    "out_dir = os.path.expanduser(r\"D:\\Sample\")\n",
    "if not os.path.exists(out_dir):\n",
    "    os.makedirs(out_dir)"
   ]
  },
  {
   "cell_type": "markdown",
   "id": "b8e34295-6597-4da6-844a-db4a29820776",
   "metadata": {},
   "source": [
    "# Join the path and output name"
   ]
  },
  {
   "cell_type": "code",
   "execution_count": 13,
   "id": "b4ae1b99-e8cb-48e8-9ce9-3e0391e53a92",
   "metadata": {},
   "outputs": [
    {
     "data": {
      "text/html": [
       "\n",
       "            <style>\n",
       "                .geemap-dark {\n",
       "                    --jp-widgets-color: white;\n",
       "                    --jp-widgets-label-color: white;\n",
       "                    --jp-ui-font-color1: white;\n",
       "                    --jp-layout-color2: #454545;\n",
       "                    background-color: #383838;\n",
       "                }\n",
       "\n",
       "                .geemap-dark .jupyter-button {\n",
       "                    --jp-layout-color3: #383838;\n",
       "                }\n",
       "\n",
       "                .geemap-colab {\n",
       "                    background-color: var(--colab-primary-surface-color, white);\n",
       "                }\n",
       "\n",
       "                .geemap-colab .jupyter-button {\n",
       "                    --jp-layout-color3: var(--colab-primary-surface-color, white);\n",
       "                }\n",
       "            </style>\n",
       "            "
      ],
      "text/plain": [
       "<IPython.core.display.HTML object>"
      ]
     },
     "metadata": {},
     "output_type": "display_data"
    }
   ],
   "source": [
    "import pandas as pd\n",
    "ndvi_stats = os.path.join(out_dir, 'ndvi_time_series.csv')\n",
    "evi_stats = os.path.join(out_dir, 'evi_time_series.csv')"
   ]
  },
  {
   "cell_type": "markdown",
   "id": "49014896-0fd7-4f8b-9a5c-54aa4a316db3",
   "metadata": {},
   "source": [
    "# Saving the output at defined location"
   ]
  },
  {
   "cell_type": "code",
   "execution_count": 14,
   "id": "29b75b83-24bb-4999-9083-bf51675bd9f0",
   "metadata": {},
   "outputs": [
    {
     "data": {
      "text/html": [
       "\n",
       "            <style>\n",
       "                .geemap-dark {\n",
       "                    --jp-widgets-color: white;\n",
       "                    --jp-widgets-label-color: white;\n",
       "                    --jp-ui-font-color1: white;\n",
       "                    --jp-layout-color2: #454545;\n",
       "                    background-color: #383838;\n",
       "                }\n",
       "\n",
       "                .geemap-dark .jupyter-button {\n",
       "                    --jp-layout-color3: #383838;\n",
       "                }\n",
       "\n",
       "                .geemap-colab {\n",
       "                    background-color: var(--colab-primary-surface-color, white);\n",
       "                }\n",
       "\n",
       "                .geemap-colab .jupyter-button {\n",
       "                    --jp-layout-color3: var(--colab-primary-surface-color, white);\n",
       "                }\n",
       "            </style>\n",
       "            "
      ],
      "text/plain": [
       "<IPython.core.display.HTML object>"
      ]
     },
     "metadata": {},
     "output_type": "display_data"
    },
    {
     "name": "stdout",
     "output_type": "stream",
     "text": [
      "Computing statistics ...\n",
      "Generating URL ...\n",
      "Downloading data from https://earthengine.googleapis.com/v1/projects/earthengine-legacy/tables/5608478dcf86330420bb3b12ed61fbe0-9e46ac7715704ef597c2242a5faece01:getFeatures\n",
      "Please wait ...\n",
      "Data downloaded to D:\\Sample\\ndvi_time_series.csv\n",
      "Computing statistics ...\n",
      "Generating URL ...\n",
      "Downloading data from https://earthengine.googleapis.com/v1/projects/earthengine-legacy/tables/b449a0f2fd0aecbd58c6753072daaa5a-f58c4ba209e2e077ccc87d5e86347a30:getFeatures\n",
      "Please wait ...\n",
      "Data downloaded to D:\\Sample\\evi_time_series.csv\n"
     ]
    }
   ],
   "source": [
    "geemap.zonal_statistics(ndvi, shp, statistics_type='MEAN', scale=10)\n",
    "geemap.zonal_statistics(evi, shp, statistics_type='MEAN', scale=10)"
   ]
  },
  {
   "cell_type": "markdown",
   "id": "30323961-98c3-4bb4-91d1-e9fdfc3e483e",
   "metadata": {},
   "source": [
    "# Read the downloaded NDVI csv file "
   ]
  },
  {
   "cell_type": "code",
   "execution_count": 15,
   "id": "252bd272-509f-4a0a-8c84-18427ac166fa",
   "metadata": {},
   "outputs": [
    {
     "data": {
      "text/html": [
       "\n",
       "            <style>\n",
       "                .geemap-dark {\n",
       "                    --jp-widgets-color: white;\n",
       "                    --jp-widgets-label-color: white;\n",
       "                    --jp-ui-font-color1: white;\n",
       "                    --jp-layout-color2: #454545;\n",
       "                    background-color: #383838;\n",
       "                }\n",
       "\n",
       "                .geemap-dark .jupyter-button {\n",
       "                    --jp-layout-color3: #383838;\n",
       "                }\n",
       "\n",
       "                .geemap-colab {\n",
       "                    background-color: var(--colab-primary-surface-color, white);\n",
       "                }\n",
       "\n",
       "                .geemap-colab .jupyter-button {\n",
       "                    --jp-layout-color3: var(--colab-primary-surface-color, white);\n",
       "                }\n",
       "            </style>\n",
       "            "
      ],
      "text/plain": [
       "<IPython.core.display.HTML object>"
      ]
     },
     "metadata": {},
     "output_type": "display_data"
    }
   ],
   "source": [
    "df = pd.read_csv(r\"D:\\Sample\\ndvi_time_series.csv\", header=None).T\n",
    "df.columns = ['Date', 'Ndvi_value']\n",
    "df = df[df['Date'].str.contains('ndvi', case=False)]\n",
    "df['Date'] = df['Date'].str.split('T').str[0]\n",
    "df = df.reset_index(drop=True)\n",
    "df['Date'] = pd.to_datetime(df['Date'])\n",
    "df['Ndvi_value'] = pd.to_numeric(df['Ndvi_value'], errors='coerce')  \n",
    "df.dropna(subset=['Ndvi_value'], inplace=True)  \n",
    "df = df.sort_values(by='Date')\n",
    "df.to_csv(r\"D:\\Sample\\output_ndvi_data.csv\", index=True) # Below It will be used as input for Machine Learning"
   ]
  },
  {
   "cell_type": "markdown",
   "id": "3d94e41f-506e-44e0-ac49-2b9314bbeed3",
   "metadata": {},
   "source": [
    "# Plotting NDVI time series data"
   ]
  },
  {
   "cell_type": "code",
   "execution_count": 16,
   "id": "083a1b0a-2594-4ff8-a0a8-26b81f115d37",
   "metadata": {},
   "outputs": [
    {
     "data": {
      "text/html": [
       "\n",
       "            <style>\n",
       "                .geemap-dark {\n",
       "                    --jp-widgets-color: white;\n",
       "                    --jp-widgets-label-color: white;\n",
       "                    --jp-ui-font-color1: white;\n",
       "                    --jp-layout-color2: #454545;\n",
       "                    background-color: #383838;\n",
       "                }\n",
       "\n",
       "                .geemap-dark .jupyter-button {\n",
       "                    --jp-layout-color3: #383838;\n",
       "                }\n",
       "\n",
       "                .geemap-colab {\n",
       "                    background-color: var(--colab-primary-surface-color, white);\n",
       "                }\n",
       "\n",
       "                .geemap-colab .jupyter-button {\n",
       "                    --jp-layout-color3: var(--colab-primary-surface-color, white);\n",
       "                }\n",
       "            </style>\n",
       "            "
      ],
      "text/plain": [
       "<IPython.core.display.HTML object>"
      ]
     },
     "metadata": {},
     "output_type": "display_data"
    },
    {
     "name": "stderr",
     "output_type": "stream",
     "text": [
      "No artists with labels found to put in legend.  Note that artists whose label start with an underscore are ignored when legend() is called with no argument.\n"
     ]
    },
    {
     "data": {
      "image/png": "[encoded data removed]",
      "text/plain": [
       "<Figure size 900x270 with 1 Axes>"
      ]
     },
     "metadata": {},
     "output_type": "display_data"
    }
   ],
   "source": [
    "fig, ax = plt.subplots(figsize=(10, 3), dpi=90)\n",
    "ax.plot(df['Date'], df['Ndvi_value'], marker='o')\n",
    "ax.set_title(\"Mean NDVI Time Series\")\n",
    "ax.set_ylabel(\"NDVI\")\n",
    "ax.set_ylim([0, 1])\n",
    "ax.set_xlabel(\"Date Range\")\n",
    "ax.legend(title=\"Data Points\", loc=\"lower left\", ncol=2)\n",
    "plt.show()"
   ]
  },
  {
   "cell_type": "markdown",
   "id": "42cc9727-5e65-48cd-9720-d82c8abc633d",
   "metadata": {},
   "source": [
    "# Read the downloaded EVI csv file"
   ]
  },
  {
   "cell_type": "code",
   "execution_count": 17,
   "id": "94255be0-beb4-42ef-8959-a538390d25e6",
   "metadata": {},
   "outputs": [
    {
     "data": {
      "text/html": [
       "\n",
       "            <style>\n",
       "                .geemap-dark {\n",
       "                    --jp-widgets-color: white;\n",
       "                    --jp-widgets-label-color: white;\n",
       "                    --jp-ui-font-color1: white;\n",
       "                    --jp-layout-color2: #454545;\n",
       "                    background-color: #383838;\n",
       "                }\n",
       "\n",
       "                .geemap-dark .jupyter-button {\n",
       "                    --jp-layout-color3: #383838;\n",
       "                }\n",
       "\n",
       "                .geemap-colab {\n",
       "                    background-color: var(--colab-primary-surface-color, white);\n",
       "                }\n",
       "\n",
       "                .geemap-colab .jupyter-button {\n",
       "                    --jp-layout-color3: var(--colab-primary-surface-color, white);\n",
       "                }\n",
       "            </style>\n",
       "            "
      ],
      "text/plain": [
       "<IPython.core.display.HTML object>"
      ]
     },
     "metadata": {},
     "output_type": "display_data"
    }
   ],
   "source": [
    "df1 = pd.read_csv(r\"D:\\Sample\\evi_time_series.csv\", header=None).T\n",
    "df1.columns = ['Date', 'evi_value']\n",
    "df1 = df1[df1['Date'].str.contains('evi', case=False)]\n",
    "df1['Date'] = df1['Date'].str.split('T').str[0]\n",
    "df1 = df1.reset_index(drop=True)\n",
    "df1['Date'] = pd.to_datetime(df1['Date'])\n",
    "df1['evi_value'] = pd.to_numeric(df1['evi_value'], errors='coerce')  \n",
    "df1.dropna(subset=['evi_value'], inplace=True)  \n",
    "df1 = df1.sort_values(by='Date')\n"
   ]
  },
  {
   "cell_type": "markdown",
   "id": "0610b852-d92b-4cba-8aea-83f25e4e5bcb",
   "metadata": {},
   "source": [
    "# Plotting EVI time series data"
   ]
  },
  {
   "cell_type": "code",
   "execution_count": 18,
   "id": "0adef645-7904-4808-9942-bde355cd28d4",
   "metadata": {},
   "outputs": [
    {
     "data": {
      "text/html": [
       "\n",
       "            <style>\n",
       "                .geemap-dark {\n",
       "                    --jp-widgets-color: white;\n",
       "                    --jp-widgets-label-color: white;\n",
       "                    --jp-ui-font-color1: white;\n",
       "                    --jp-layout-color2: #454545;\n",
       "                    background-color: #383838;\n",
       "                }\n",
       "\n",
       "                .geemap-dark .jupyter-button {\n",
       "                    --jp-layout-color3: #383838;\n",
       "                }\n",
       "\n",
       "                .geemap-colab {\n",
       "                    background-color: var(--colab-primary-surface-color, white);\n",
       "                }\n",
       "\n",
       "                .geemap-colab .jupyter-button {\n",
       "                    --jp-layout-color3: var(--colab-primary-surface-color, white);\n",
       "                }\n",
       "            </style>\n",
       "            "
      ],
      "text/plain": [
       "<IPython.core.display.HTML object>"
      ]
     },
     "metadata": {},
     "output_type": "display_data"
    },
    {
     "name": "stderr",
     "output_type": "stream",
     "text": [
      "No artists with labels found to put in legend.  Note that artists whose label start with an underscore are ignored when legend() is called with no argument.\n"
     ]
    },
    {
     "data": {
      "image/png": "[encoded data removed]",
      "text/plain": [
       "<Figure size 540x270 with 1 Axes>"
      ]
     },
     "metadata": {},
     "output_type": "display_data"
    }
   ],
   "source": [
    "fig, ax1 = plt.subplots(figsize=(6, 3), dpi=90)\n",
    "ax1.plot(df1['Date'], df1['evi_value'], marker='o')\n",
    "ax1.set_title(\"Mean EVI Time Series\")\n",
    "ax1.set_ylabel(\"EVI\")\n",
    "ax1.set_ylim([-7, 4])\n",
    "ax1.set_xlabel(\"Date Range\")\n",
    "ax1.legend(title=\"Data Points\", loc=\"upper left\", ncol=2)\n",
    "plt.show()"
   ]
  }
 ],
 "metadata": {
  "kernelspec": {
   "display_name": "Python 3 (ipykernel)",
   "language": "python",
   "name": "python3"
  },
  "language_info": {
   "codemirror_mode": {
    "name": "ipython",
    "version": 3
   },
   "file_extension": ".py",
   "mimetype": "text/x-python",
   "name": "python",
   "nbconvert_exporter": "python",
   "pygments_lexer": "ipython3",
   "version": "3.9.18"
  }
 },
 "nbformat": 4,
 "nbformat_minor": 5
}
